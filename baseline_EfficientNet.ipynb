{
  "nbformat": 4,
  "nbformat_minor": 0,
  "metadata": {
    "colab": {
      "name": "baseline_EfficientNet.ipynb",
      "provenance": [],
      "collapsed_sections": [],
      "include_colab_link": true
    },
    "kernelspec": {
      "name": "python3",
      "display_name": "Python 3"
    },
    "accelerator": "GPU"
  },
  "cells": [
    {
      "cell_type": "markdown",
      "metadata": {
        "id": "view-in-github",
        "colab_type": "text"
      },
      "source": [
        "<a href=\"https://colab.research.google.com/github/DhruvaBansal00/CV-Spring2020-Project/blob/main/baseline_EfficientNet.ipynb\" target=\"_parent\"><img src=\"https://colab.research.google.com/assets/colab-badge.svg\" alt=\"Open In Colab\"/></a>"
      ]
    },
    {
      "cell_type": "code",
      "metadata": {
        "id": "O4mBc69PC64x"
      },
      "source": [
        "import tensorflow as tf\n",
        "\n",
        "from tensorflow.keras import datasets, layers, models\n",
        "import matplotlib.pyplot as plt\n",
        "\n",
        "import tensorflow_hub as hub\n",
        "\n",
        "import tensorflow_datasets as tfds\n"
      ],
      "execution_count": null,
      "outputs": []
    },
    {
      "cell_type": "code",
      "metadata": {
        "id": "fQPXyMHeFckY"
      },
      "source": [
        "# Import dataset data from tfds\n",
        "\n",
        "NUM_CLASSES = 10\n",
        "dataset_name = 'cifar'+str(NUM_CLASSES)\n",
        "ds_train, info = tfds.load(name=dataset_name, split='train', with_info=True)\n",
        "ds_test = tfds.load(name=dataset_name, split='test')\n",
        "train_examples = info.splits['train'].num_examples"
      ],
      "execution_count": null,
      "outputs": []
    },
    {
      "cell_type": "code",
      "metadata": {
        "id": "_l2vzSEWf7Pp"
      },
      "source": [
        "# Split into train and test sets\n",
        "# We have checked that the classes are reasonably balanced.\n",
        "# train_split = 0.98\n",
        "# num_train = int(train_split * num_examples)\n",
        "# ds_train = ds_train.take(num_train)\n",
        "DATASET_NUM_TRAIN_EXAMPLES = train_examples"
      ],
      "execution_count": null,
      "outputs": []
    },
    {
      "cell_type": "code",
      "metadata": {
        "id": "T9BpLtmKB08E"
      },
      "source": [
        "# Load model from TFHub into KerasLayer\n",
        "efficient_net_url = \"https://tfhub.dev/google/efficientnet/b3/feature-vector/1\"\n",
        "efficientNetKeras = hub.KerasLayer(efficient_net_url)"
      ],
      "execution_count": null,
      "outputs": []
    },
    {
      "cell_type": "code",
      "metadata": {
        "id": "y7lKo0mlDWX6"
      },
      "source": [
        "class EfficientNetModel(tf.keras.Model):\n",
        "  \"\"\"Efficient Net with a new head.\"\"\"\n",
        "\n",
        "  def __init__(self, num_classes, module):\n",
        "    super().__init__()\n",
        "\n",
        "    self.num_classes = num_classes\n",
        "    self.head = tf.keras.layers.Dense(num_classes, kernel_initializer='zeros')\n",
        "    self.bit_model = module\n",
        "  \n",
        "  def call(self, images):\n",
        "    # No need to cut head off since we are using feature extractor model\n",
        "    bit_embedding = self.bit_model(images)\n",
        "    return self.head(bit_embedding)\n",
        "\n",
        "model = EfficientNetModel(num_classes=NUM_CLASSES, module=efficientNetKeras)"
      ],
      "execution_count": null,
      "outputs": []
    },
    {
      "cell_type": "code",
      "metadata": {
        "id": "2Bt3a2LrY6M8"
      },
      "source": [
        "\n",
        "# Preprocessing helper functions\n",
        "RESIZE_TO = 160\n",
        "CROP_TO = 128\n",
        "# Create data pipelines for training and testing:\n",
        "BATCH_SIZE = 512\n",
        "SCHEDULE_LENGTH = 20\n",
        "SCHEDULE_LENGTH = SCHEDULE_LENGTH * 512 / BATCH_SIZE\n",
        "\n",
        "STEPS_PER_EPOCH = 1\n",
        "\n",
        "def cast_to_tuple(features):\n",
        "  return (features['image'], features['label'])\n",
        "  \n",
        "def preprocess_train(features):\n",
        "  # Apply random crops and horizontal flips for all tasks \n",
        "  # except those for which cropping or flipping destroys the label semantics\n",
        "  # (e.g. predict orientation of an object)\n",
        "  features['image'] = tf.image.random_flip_left_right(features['image'])\n",
        "  features['image'] = tf.image.resize(features['image'], [RESIZE_TO, RESIZE_TO])\n",
        "  features['image'] = tf.image.random_crop(features['image'], [CROP_TO, CROP_TO, 3])\n",
        "  features['image'] = tf.cast(features['image'], tf.float32) / 255.0\n",
        "  return features\n",
        "\n",
        "def preprocess_test(features):\n",
        "  features['image'] = tf.image.resize(features['image'], [RESIZE_TO, RESIZE_TO])\n",
        "  features['image'] = tf.cast(features['image'], tf.float32) / 255.0\n",
        "  return features\n",
        "\n",
        "pipeline_train = (ds_train\n",
        "                  .shuffle(200000)\n",
        "                  .repeat(int(SCHEDULE_LENGTH * BATCH_SIZE / DATASET_NUM_TRAIN_EXAMPLES * STEPS_PER_EPOCH) + 1 + 50)  # repeat dataset_size / num_steps\n",
        "                  .map(preprocess_train, num_parallel_calls=8)\n",
        "                  .batch(BATCH_SIZE)\n",
        "                  .map(cast_to_tuple)  # for keras model.fit\n",
        "                  .prefetch(2))\n",
        "\n",
        "pipeline_test = (ds_test.map(preprocess_test, num_parallel_calls=1)\n",
        "                  .map(cast_to_tuple)  # for keras model.fit\n",
        "                  .batch(BATCH_SIZE)\n",
        "                  .prefetch(2))"
      ],
      "execution_count": null,
      "outputs": []
    },
    {
      "cell_type": "code",
      "metadata": {
        "id": "EQawgBlLafpy"
      },
      "source": [
        "SCHEDULE_BOUNDARIES = [3000, 6000, 9000]\n",
        "lr = 0.003 * BATCH_SIZE / 512 \n",
        "# Decay learning rate by a factor of 10 at SCHEDULE_BOUNDARIES.\n",
        "lr_schedule = tf.keras.optimizers.schedules.PiecewiseConstantDecay(boundaries=SCHEDULE_BOUNDARIES, \n",
        "                                                                   values=[lr, lr*0.1, lr*0.001, lr*0.0001])\n",
        "optimizer = tf.keras.optimizers.Adam(learning_rate=lr_schedule)\n",
        "\n",
        "loss_fn = tf.keras.losses.SparseCategoricalCrossentropy(from_logits=True)"
      ],
      "execution_count": null,
      "outputs": []
    },
    {
      "cell_type": "code",
      "metadata": {
        "id": "buzaMlQzk3iV"
      },
      "source": [
        "model.compile(optimizer=optimizer,\n",
        "              loss=loss_fn,\n",
        "              metrics=['accuracy'])\n",
        "\n",
        "# Fine-tune model\n",
        "history = model.fit(\n",
        "    pipeline_train,\n",
        "    batch_size=BATCH_SIZE,\n",
        "    steps_per_epoch=STEPS_PER_EPOCH,\n",
        "    epochs= int(SCHEDULE_LENGTH / STEPS_PER_EPOCH), \n",
        "    validation_data=pipeline_test  \n",
        ")\n",
        "\n",
        "print(history)"
      ],
      "execution_count": null,
      "outputs": []
    },
    {
      "cell_type": "markdown",
      "metadata": {
        "id": "YbjJUN7vvxnH"
      },
      "source": [
        "########################################################################################"
      ]
    },
    {
      "cell_type": "markdown",
      "metadata": {
        "id": "XUaxaq--vKE4"
      },
      "source": [
        "Pipeline Generating plots:"
      ]
    },
    {
      "cell_type": "code",
      "metadata": {
        "id": "h2BvJE_Lv4OS"
      },
      "source": [
        "import tensorflow as tf\n",
        "from tensorflow.keras import datasets, layers, models\n",
        "import matplotlib.pyplot as plt\n",
        "import tensorflow_hub as hub\n",
        "import tensorflow_datasets as tfds\n",
        "\n",
        "from numpy.random import seed\n",
        "seed(42)\n",
        "tf.random.set_seed(42)"
      ],
      "execution_count": 7,
      "outputs": []
    },
    {
      "cell_type": "code",
      "metadata": {
        "id": "dsT6JdbSwo2k"
      },
      "source": [
        "#Model Definition\n",
        "class EfficientNetModel(tf.keras.Model):\n",
        "  \"\"\"Efficient Net with a new head.\"\"\"\n",
        "\n",
        "  def __init__(self, num_classes, module):\n",
        "    super().__init__()\n",
        "\n",
        "    self.head = tf.keras.layers.Dense(num_classes, kernel_initializer='zeros')\n",
        "    self.bit_model = module\n",
        "    self.softmax_layer = tf.keras.layers.Softmax()\n",
        "  \n",
        "  def call(self, images):\n",
        "    bit_embedding = self.bit_model(images)\n",
        "    return self.head(bit_embedding)"
      ],
      "execution_count": 8,
      "outputs": []
    },
    {
      "cell_type": "code",
      "metadata": {
        "id": "c9b8peLwxOLs"
      },
      "source": [
        "#Dataset Definition\n",
        "\n",
        "classes = 10\n",
        "dataset_name = 'cifar'+str(classes)\n",
        "train_dataset, info = tfds.load(name=dataset_name, split='train', with_info=True)\n",
        "test_dataset = tfds.load(name=dataset_name, split='test')\n",
        "num_train_examples = info.splits['train'].num_examples"
      ],
      "execution_count": 9,
      "outputs": []
    },
    {
      "cell_type": "code",
      "metadata": {
        "id": "Nv5rYkwbxkk8"
      },
      "source": [
        "#Pre-processing methods\n",
        "RESIZE_TO = 300\n",
        "CROP_TO = 300\n",
        "\n",
        "def cast_to_tuple(features):\n",
        "  return (features['image'], features['label'])\n",
        "  \n",
        "def preprocess_train(features):\n",
        "  # Apply random crops and horizontal flips for all tasks \n",
        "  # except those for which cropping or flipping destroys the label semantics\n",
        "  # (e.g. predict orientation of an object)\n",
        "  features['image'] = tf.image.random_flip_left_right(features['image'])\n",
        "  features['image'] = tf.image.resize(features['image'], [RESIZE_TO, RESIZE_TO])\n",
        "  # features['image'] = tf.image.random_crop(features['image'], [CROP_TO, CROP_TO, 3])\n",
        "  features['image'] = tf.cast(features['image'], tf.float32) / 255.0\n",
        "  return features\n",
        "\n",
        "def preprocess_test(features):\n",
        "  features['image'] = tf.image.resize(features['image'], [RESIZE_TO, RESIZE_TO])\n",
        "  features['image'] = tf.cast(features['image'], tf.float32) / 255.0\n",
        "  return features"
      ],
      "execution_count": 10,
      "outputs": []
    },
    {
      "cell_type": "code",
      "metadata": {
        "id": "wm_mFtW8jGmA",
        "outputId": "d83b319b-da99-4ba1-98ec-873ccd97b004",
        "colab": {
          "base_uri": "https://localhost:8080/",
          "height": 68
        }
      },
      "source": [
        "#Setting Up Training Parameters. Note that Epochs = SCHEDULE_LENGTH/STEPS_PER_EPOCH.\n",
        "#Steps per epoch = number of times you want to repeat the training set before evaluating on the test set\n",
        "#Schedule Length = total number of times you want to repeat the trainig set. \n",
        "BATCH_SIZE = 128\n",
        "SCHEDULE_LENGTH = 100\n",
        "STEPS_PER_EPOCH = 100\n",
        "SCHEDULE_BOUNDARIES = [20, 50, 80]\n",
        "learning_rate = 0.0003 \n",
        "\n",
        "train_data_sizes = [0.1, 1]\n",
        "final_train_accuracies = []\n",
        "final_test_accuracies = []\n",
        "\n",
        "for curr_size in train_data_sizes:\n",
        "\n",
        "  #Model Instantiation\n",
        "  efficientNetKeras = hub.KerasLayer(\"https://tfhub.dev/google/efficientnet/b7/feature-vector/1\")\n",
        "  efficientNet = EfficientNetModel(num_classes=classes, module=efficientNetKeras)\n",
        "\n",
        "  curr_train_examples_num = int(curr_size * num_train_examples)\n",
        "  curr_train_dataset = train_dataset.take(curr_train_examples_num)\n",
        "\n",
        "  print(curr_train_examples_num)\n",
        "  print(len(curr_train_dataset))\n",
        "\n",
        "  pipeline_train = (curr_train_dataset\n",
        "                  .shuffle(200000)\n",
        "                  .repeat(int(SCHEDULE_LENGTH * BATCH_SIZE / curr_train_examples_num * STEPS_PER_EPOCH) + 1 + 50)  # repeat dataset_size / num_steps\n",
        "                  .map(preprocess_train, num_parallel_calls=8)\n",
        "                  .batch(BATCH_SIZE)\n",
        "                  .map(cast_to_tuple)  # for keras model.fit\n",
        "                  .prefetch(2))\n",
        "\n",
        "  pipeline_test = (test_dataset.map(preprocess_test, num_parallel_calls=1)\n",
        "                    .map(cast_to_tuple)  # for keras model.fit\n",
        "                    .batch(BATCH_SIZE)\n",
        "                    .prefetch(2))\n",
        "  \n",
        "  \n",
        "  # Decay learning rate by a factor of 10 at SCHEDULE_BOUNDARIES.\n",
        "  lr_schedule = tf.keras.optimizers.schedules.PiecewiseConstantDecay(boundaries=SCHEDULE_BOUNDARIES, \n",
        "                                                                    values=[learning_rate, learning_rate*0.1, learning_rate*0.001, learning_rate*0.0001])\n",
        "  optimizer = tf.keras.optimizers.Adam(learning_rate=lr_schedule)\n",
        "  loss_fn = tf.keras.losses.SparseCategoricalCrossentropy(from_logits=True)\n",
        "  efficientNet.compile(optimizer=optimizer,\n",
        "              loss=loss_fn,\n",
        "              metrics=['accuracy'])\n",
        "\n",
        "  # Fine-tune model\n",
        "  history = efficientNet.fit(\n",
        "      pipeline_train,\n",
        "      batch_size=BATCH_SIZE,\n",
        "      steps_per_epoch=STEPS_PER_EPOCH,\n",
        "      epochs= int(SCHEDULE_LENGTH / STEPS_PER_EPOCH), \n",
        "      validation_data=pipeline_test  \n",
        "  )\n",
        "\n",
        "\n",
        "\n",
        "\n",
        "\n",
        "\n"
      ],
      "execution_count": null,
      "outputs": [
        {
          "output_type": "stream",
          "text": [
            "5000\n",
            "5000\n",
            " 56/100 [===============>..............] - ETA: 1:49 - loss: 1.6896 - accuracy: 0.8521"
          ],
          "name": "stdout"
        }
      ]
    }
  ]
}